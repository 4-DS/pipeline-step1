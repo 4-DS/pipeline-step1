{
 "cells": [
  {
   "cell_type": "code",
   "execution_count": null,
   "id": "781f0646-45a7-4347-91b0-ba45eae05bda",
   "metadata": {},
   "outputs": [],
   "source": [
    "%load_ext autoreload\n",
    "%autoreload 2"
   ]
  },
  {
   "cell_type": "code",
   "execution_count": null,
   "id": "7f7cb793-116e-48f5-a24c-2e9e370e8a47",
   "metadata": {},
   "outputs": [],
   "source": [
    "#1 copy a test parquet\n",
    "import os\n",
    "import shutil\n",
    "os.environ[\"DSML_CURR_RUN_ID\"]=\"run-00-01-01-000000\"\n",
    "\n",
    "!wget https://github.com/apache/parquet-testing/raw/master/data/alltypes_dictionary.parquet -O test.parquet"
   ]
  },
  {
   "cell_type": "code",
   "execution_count": null,
   "id": "b5e2728d-4688-4ab1-b3f7-034090d68d4d",
   "metadata": {
    "tags": [
     "params"
    ]
   },
   "outputs": [],
   "source": [
    "#2. specify parameters\n",
    "pipeline_params={\n",
    "    \"X\": \"something\"\n",
    "}\n",
    "step_params={\n",
    "    \"X\": \"something_else\"\n",
    "}\n",
    "substep_params={\n",
    "    \"param1\":\"None1\",\n",
    "    \"param2\":\"None2\"}"
   ]
  },
  {
   "cell_type": "code",
   "execution_count": null,
   "id": "d65630ec-fbcb-4fd5-99b2-15a07fa863bd",
   "metadata": {},
   "outputs": [],
   "source": [
    "from sinara.substep import NotebookSubstep, ENV_NAME, PIPELINE_NAME, ZONE_NAME, STEP_NAME, RUN_ID, ENTITY_NAME, ENTITY_PATH, SUBSTEP_NAME, get_user\n",
    "\n",
    "substep = NotebookSubstep(pipeline_params, step_params, substep_params)\n",
    "\n",
    "substep.interface(\n",
    "   \n",
    "    custom_outputs = \n",
    "    [\n",
    "        { ENTITY_NAME: \"custom_data\", ENTITY_PATH: f\"/data/home/{get_user()}/custom_input_data\" }\n",
    "    ]\n",
    ")\n",
    "\n",
    "substep.print_interface_info()"
   ]
  },
  {
   "cell_type": "code",
   "execution_count": null,
   "id": "13ba282e-9b33-4d69-88f4-4793ec043638",
   "metadata": {},
   "outputs": [],
   "source": [
    "outputs = substep.custom_outputs()\n",
    "os.makedirs(outputs.custom_data, exist_ok=True)\n",
    "shutil.copyfile('./test.parquet', outputs.custom_data+'/test.parquet')\n",
    "with open(outputs.custom_data+'/_SUCCESS', 'w'): pass"
   ]
  },
  {
   "cell_type": "code",
   "execution_count": null,
   "id": "e1737e16-2493-43b5-a3d2-23d734573c0c",
   "metadata": {},
   "outputs": [],
   "source": [
    "!rm -f test.parquet"
   ]
  }
 ],
 "metadata": {
  "kernelspec": {
   "display_name": "Python 3 (ipykernel)",
   "language": "python",
   "name": "python3"
  },
  "language_info": {
   "codemirror_mode": {
    "name": "ipython",
    "version": 3
   },
   "file_extension": ".py",
   "mimetype": "text/x-python",
   "name": "python",
   "nbconvert_exporter": "python",
   "pygments_lexer": "ipython3",
   "version": "3.10.8"
  }
 },
 "nbformat": 4,
 "nbformat_minor": 5
}
